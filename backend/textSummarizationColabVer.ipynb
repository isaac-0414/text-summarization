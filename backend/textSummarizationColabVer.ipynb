{
  "cells": [
    {
      "cell_type": "markdown",
      "metadata": {},
      "source": [
        "This is a version of server that can run in Google Colab with ngrok. You can have a look at server.py in the backend folder, that's the one I used."
      ]
    },
    {
      "cell_type": "code",
      "execution_count": null,
      "metadata": {
        "id": "IgSYd5waoScJ"
      },
      "outputs": [],
      "source": [
        "!pip install fastapi\n",
        "!pip install uvicorn\n",
        "!pip install pickle5\n",
        "!pip install pydantic\n",
        "!pip install scikit-learn\n",
        "!pip install requests\n",
        "!pip install pypi-json\n",
        "!pip install pyngrok\n",
        "!pip install nest-asyncio\n",
        "!pip install transformers"
      ]
    },
    {
      "attachments": {},
      "cell_type": "markdown",
      "metadata": {},
      "source": []
    },
    {
      "cell_type": "code",
      "execution_count": null,
      "metadata": {
        "id": "yhU8ZeGQqOJ4"
      },
      "outputs": [],
      "source": [
        "from fastapi import FastAPI\n",
        "from pydantic import BaseModel\n",
        "import pickle\n",
        "import json\n",
        "import uvicorn\n",
        "from pyngrok import ngrok\n",
        "from fastapi.middleware.cors import CORSMiddleware\n",
        "import nest_asyncio"
      ]
    },
    {
      "cell_type": "code",
      "execution_count": null,
      "metadata": {
        "id": "o0Wh4fPW0UW1"
      },
      "outputs": [],
      "source": [
        "!pip install pysummarization"
      ]
    },
    {
      "cell_type": "code",
      "execution_count": null,
      "metadata": {
        "id": "kQqNc5RE0Wof"
      },
      "outputs": [],
      "source": [
        "from pysummarization.nlpbase.auto_abstractor import AutoAbstractor\n",
        "from pysummarization.tokenizabledoc.simple_tokenizer import SimpleTokenizer\n",
        "from pysummarization.abstractabledoc.top_n_rank_abstractor import TopNRankAbstractor"
      ]
    },
    {
      "cell_type": "code",
      "execution_count": null,
      "metadata": {
        "id": "d1c2cS0l0bY3"
      },
      "outputs": [],
      "source": [
        "def summarize_text(document):\n",
        "  # Object of automatic summarization.\n",
        "  auto_abstractor = AutoAbstractor()\n",
        "  # Set tokenizer.\n",
        "  auto_abstractor.tokenizable_doc = SimpleTokenizer()\n",
        "  # Set delimiter for making a list of sentence.\n",
        "  auto_abstractor.delimiter_list = [\".\", \"\\n\"]\n",
        "  # Object of abstracting and filtering document.\n",
        "  abstractable_doc = TopNRankAbstractor()\n",
        "  # Summarize document.\n",
        "  result_dict = auto_abstractor.summarize(document, abstractable_doc)\n",
        "\n",
        "  # Output result.\n",
        "  return \"\".join(result_dict[\"summarize_result\"])"
      ]
    },
    {
      "cell_type": "code",
      "execution_count": null,
      "metadata": {
        "id": "pgHHAPWF75fx"
      },
      "outputs": [],
      "source": [
        "class Item(BaseModel):\n",
        "    text: str"
      ]
    },
    {
      "cell_type": "code",
      "execution_count": null,
      "metadata": {
        "id": "TsV688miqUYi"
      },
      "outputs": [],
      "source": [
        "app = FastAPI()"
      ]
    },
    {
      "cell_type": "code",
      "execution_count": null,
      "metadata": {
        "id": "-glCwL48qVS_"
      },
      "outputs": [],
      "source": [
        "origins = [\"*\"]\n",
        "\n",
        "app.add_middleware(\n",
        "    CORSMiddleware,\n",
        "    allow_origins=origins,\n",
        "    allow_credentials=True,\n",
        "    allow_methods=[\"*\"],\n",
        "    allow_headers=[\"*\"],\n",
        ")"
      ]
    },
    {
      "cell_type": "code",
      "execution_count": null,
      "metadata": {
        "id": "tGvP76zpqcfQ"
      },
      "outputs": [],
      "source": [
        "@app.get(\"/\")\n",
        "def index():\n",
        "   return {\"name\": \"Isaac Z\"}\n",
        "\n",
        "@app.post(\"/summarize/\")\n",
        "def summarize(item: Item):\n",
        "   textToSummarize = item.text\n",
        "   summary = summarize_text(textToSummarize)\n",
        "   return {\"summary\": summary}"
      ]
    },
    {
      "cell_type": "code",
      "execution_count": null,
      "metadata": {
        "id": "W_4VEE8bqirX"
      },
      "outputs": [],
      "source": [
        "ngrok_tunnel = ngrok.connect(8000)\n",
        "print('Public URL:', ngrok_tunnel.public_url)\n",
        "nest_asyncio.apply()\n",
        "uvicorn.run(app, port=8000)"
      ]
    }
  ],
  "metadata": {
    "colab": {
      "provenance": []
    },
    "kernelspec": {
      "display_name": "Python 3",
      "name": "python3"
    },
    "language_info": {
      "name": "python"
    }
  },
  "nbformat": 4,
  "nbformat_minor": 0
}
